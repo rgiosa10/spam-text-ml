{
 "cells": [
  {
   "cell_type": "code",
   "execution_count": 11,
   "metadata": {},
   "outputs": [],
   "source": [
    "import pandas as pd\n",
    "from google.cloud import bigquery\n",
    "from google.oauth2 import service_account\n",
    "from google.cloud.exceptions import NotFound\n",
    "import yaml\n",
    "import os\n",
    "from datetime import datetime\n",
    "\n",
    "\n",
    "#training images\n",
    "bb_train_data_dir = './data/train_basketball'\n",
    "base_train_data_dir = './data/train_baseball'\n",
    "a_train_data_dir = './data/train_archery'\n",
    "\n",
    "bb_train_images = os.listdir(bb_train_data_dir)\n",
    "base_train_images = os.listdir(base_train_data_dir)\n",
    "a_train_images = os.listdir(a_train_data_dir)\n",
    "\n",
    "\n",
    "#testing images\n",
    "bb_test_data_dir = './data/basketball'\n",
    "base_test_data_dir = './data/baseball'\n",
    "a_test_data_dir = './data/archery'\n",
    "\n",
    "bb_test_images = os.listdir(bb_test_data_dir)\n",
    "base_test_images = os.listdir(base_test_data_dir)\n",
    "a_test_images = os.listdir(a_test_data_dir)\n",
    "\n",
    "\n",
    "#create empty dataframe\n",
    "df = pd.DataFrame(columns=['ML_USE','GCS_FILE_PATH', 'LABEL'])\n",
    "\n",
    "#training images to df\n",
    "for image in bb_train_images:\n",
    "    df = df.append({'ML_USE':'training','GCS_FILE_PATH': os.path.join('gs://rgiosa-deb/train_basketball',image), 'LABEL': \"basketball\"}, ignore_index=True)\n",
    "\n",
    "for image in base_train_images:\n",
    "    df = df.append({'ML_USE':'training','GCS_FILE_PATH': os.path.join('gs://rgiosa-deb/train_baseball',image), 'LABEL': \"baseball\"}, ignore_index=True)\n",
    "\n",
    "for image in a_train_images:\n",
    "    df = df.append({'ML_USE':'training','GCS_FILE_PATH': os.path.join('gs://rgiosa-deb/train_archery',image), 'LABEL': \"archery\"}, ignore_index=True)\n",
    "\n",
    "#test images to df\n",
    "for image in bb_test_images:\n",
    "    df = df.append({'ML_USE':'test','GCS_FILE_PATH': os.path.join('gs://rgiosa-deb/basketball',image), 'LABEL': \"basketball\"}, ignore_index=True)\n",
    "\n",
    "for image in base_test_images:\n",
    "    df = df.append({'ML_USE':'test','GCS_FILE_PATH': os.path.join('gs://rgiosa-deb/baseball',image), 'LABEL': \"baseball\"}, ignore_index=True)\n",
    "\n",
    "for image in a_test_images:\n",
    "    df = df.append({'ML_USE':'test','GCS_FILE_PATH': os.path.join('gs://rgiosa-deb/archery',image), 'LABEL': \"archery\"}, ignore_index=True)\n",
    "\n",
    "df = df[['ML_USE','GCS_FILE_PATH', 'LABEL']]\n",
    "df.set_index('ML_USE', inplace=True)\n",
    "\n",
    "#export to csv for Vertex AI\n",
    "df.to_csv('./data/train_test.csv', header=True)\n",
    "\n"
   ]
  }
 ],
 "metadata": {
  "kernelspec": {
   "display_name": "Python 3.9.6 64-bit",
   "language": "python",
   "name": "python3"
  },
  "language_info": {
   "name": "python",
   "version": "3.9.6"
  },
  "orig_nbformat": 4,
  "vscode": {
   "interpreter": {
    "hash": "31f2aee4e71d21fbe5cf8b01ff0e069b9275f58929596ceb00d14d90e3e16cd6"
   }
  }
 },
 "nbformat": 4,
 "nbformat_minor": 2
}
